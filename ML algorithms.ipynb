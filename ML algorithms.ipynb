{
 "cells": [
  {
   "cell_type": "code",
   "execution_count": 81,
   "metadata": {},
   "outputs": [],
   "source": [
    "#all Ml algorithms\n",
    "\n",
    "from numpy import *\n",
    "import matplotlib.pyplot as plt\n",
    "import math\n",
    "\n",
    "points = genfromtxt(\"distancevscalorie.csv\", delimiter=\",\")\n"
   ]
  },
  {
   "cell_type": "code",
   "execution_count": 67,
   "metadata": {},
   "outputs": [],
   "source": [
    "#linear regression\n",
    "\n",
    "def linear_regression(points):\n",
    "    X=points[:,0]\n",
    "    y=points[:,1]\n",
    "    b_current=0\n",
    "    m_current=0\n",
    "    epochs=1000\n",
    "    learning_rate=0.001\n",
    "    N=float(len(y))\n",
    "    for i in range(epochs):\n",
    "        cost=0.5*(((y-((m_current*X)+b_current)))**2)/N\n",
    "        m_gradient=-(sum(X*(y-((m_current*X)+b_current))))/N\n",
    "        b_gradient=-(sum((y-((m_current*X)+b_current))))/N\n",
    "        m_current=m_current-(learning_rate*m_gradient)\n",
    "        b_current=b_current-(learning_rate*b_gradient)\n",
    "    return m_current,b_current,cost\n"
   ]
  },
  {
   "cell_type": "code",
   "execution_count": 86,
   "metadata": {},
   "outputs": [],
   "source": [
    "#logistic regression\n",
    "\n",
    "\n",
    "thresh=0.5\n",
    "def sigmoid(x):\n",
    "    return 1/(1+exp(-x))\n",
    "\n",
    "def logistic_regression(points):\n",
    "    X=points[:,0]\n",
    "    y=points[:,1]\n",
    "    epochs=1000\n",
    "    learning_rate=0.001\n",
    "    N=float(len(y))\n",
    "    gradient_current=0\n",
    "    for i in range(epochs):\n",
    "        cost=-y*log(sigmoid(X))-(1-y)*log(1-sigmoid(X))\n",
    "        gradient=(sum(X*(sigmoid(X)-y)))/N\n",
    "        gradient_current=gradient_current-(learning_rate*gradient)\n",
    "    return gradient,cost\n",
    "    "
   ]
  },
  {
   "cell_type": "code",
   "execution_count": null,
   "metadata": {},
   "outputs": [],
   "source": [
    "#KMeans\n",
    "\n"
   ]
  }
 ],
 "metadata": {
  "kernelspec": {
   "display_name": "Python 3",
   "language": "python",
   "name": "python3"
  },
  "language_info": {
   "codemirror_mode": {
    "name": "ipython",
    "version": 3
   },
   "file_extension": ".py",
   "mimetype": "text/x-python",
   "name": "python",
   "nbconvert_exporter": "python",
   "pygments_lexer": "ipython3",
   "version": "3.6.4"
  }
 },
 "nbformat": 4,
 "nbformat_minor": 2
}
